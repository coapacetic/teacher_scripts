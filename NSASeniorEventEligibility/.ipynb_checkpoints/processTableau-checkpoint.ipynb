{
 "cells": [
  {
   "cell_type": "code",
   "execution_count": 1,
   "metadata": {},
   "outputs": [],
   "source": [
    "## Importing libraries\n",
    "import numpy as np\n",
    "import matplotlib.pyplot as plt\n",
    "import pandas as pd\n",
    "import os\n",
    "import math\n",
    "import re\n",
    "import glob\n",
    "import math\n",
    "import xlsxwriter as eW"
   ]
  },
  {
   "cell_type": "code",
   "execution_count": 2,
   "metadata": {},
   "outputs": [
    {
     "ename": "IndexError",
     "evalue": "list index out of range",
     "output_type": "error",
     "traceback": [
      "\u001b[1;31m---------------------------------------------------------------------------\u001b[0m",
      "\u001b[1;31mIndexError\u001b[0m                                Traceback (most recent call last)",
      "\u001b[1;32m<ipython-input-2-2baaeec367fe>\u001b[0m in \u001b[0;36m<module>\u001b[1;34m\u001b[0m\n\u001b[0;32m      3\u001b[0m \u001b[0mpath\u001b[0m \u001b[1;33m=\u001b[0m \u001b[1;34mr'C:\\Users\\kcoapman\\Dropbox\\1819 WPHS Assessment\\C2019 Eligibility'\u001b[0m\u001b[1;33m\u001b[0m\u001b[1;33m\u001b[0m\u001b[0m\n\u001b[0;32m      4\u001b[0m \u001b[0mfilename\u001b[0m \u001b[1;33m=\u001b[0m \u001b[0mglob\u001b[0m\u001b[1;33m.\u001b[0m\u001b[0mglob\u001b[0m\u001b[1;33m(\u001b[0m\u001b[0mpath\u001b[0m \u001b[1;33m+\u001b[0m \u001b[1;34m\"/*.csv\"\u001b[0m\u001b[1;33m)\u001b[0m\u001b[1;33m\u001b[0m\u001b[1;33m\u001b[0m\u001b[0m\n\u001b[1;32m----> 5\u001b[1;33m \u001b[0mDF_2019\u001b[0m \u001b[1;33m=\u001b[0m \u001b[0mpd\u001b[0m\u001b[1;33m.\u001b[0m\u001b[0mread_csv\u001b[0m\u001b[1;33m(\u001b[0m\u001b[0mfilename\u001b[0m\u001b[1;33m[\u001b[0m\u001b[1;36m0\u001b[0m\u001b[1;33m]\u001b[0m\u001b[1;33m)\u001b[0m\u001b[1;33m\u001b[0m\u001b[1;33m\u001b[0m\u001b[0m\n\u001b[0m\u001b[0;32m      6\u001b[0m \u001b[0mDF_2019\u001b[0m \u001b[1;33m=\u001b[0m \u001b[0mDF_2019\u001b[0m\u001b[1;33m.\u001b[0m\u001b[0mloc\u001b[0m\u001b[1;33m[\u001b[0m\u001b[1;33m:\u001b[0m\u001b[1;33m,\u001b[0m\u001b[1;33m[\u001b[0m\u001b[1;34m'Student'\u001b[0m\u001b[1;33m,\u001b[0m\u001b[1;34m'Unweighted Live GPA'\u001b[0m\u001b[1;33m,\u001b[0m\u001b[1;34m'Courses <70'\u001b[0m\u001b[1;33m,\u001b[0m \u001b[1;34m'HW Avg'\u001b[0m\u001b[1;33m]\u001b[0m\u001b[1;33m]\u001b[0m\u001b[1;33m\u001b[0m\u001b[1;33m\u001b[0m\u001b[0m\n\u001b[0;32m      7\u001b[0m \u001b[1;33m\u001b[0m\u001b[0m\n",
      "\u001b[1;31mIndexError\u001b[0m: list index out of range"
     ]
    }
   ],
   "source": [
    "## Import CSV file from Tablaeu\n",
    "\n",
    "path = r'C:\\Users\\kyled\\Dropbox\\1819 WPHS Assessment\\C2019 Eligibility'\n",
    "filename = glob.glob(path + \"/*.csv\")\n",
    "DF_2019 = pd.read_csv(filename[0])\n",
    "DF_2019 = DF_2019.loc[:,['Student','Unweighted Live GPA','Courses <70', 'HW Avg']]\n",
    "\n",
    "## Update Alex, De'ondre\n",
    "DF_2019.loc[DF_2019['Student'] == 'Zaloom, Trinity','Student'] = 'Zaloom, Alex'\n",
    "DF_2019.loc[DF_2019['Student'] == 'McMillian, Aszia','Student'] = 'McMillian, Deondré'\n",
    "\n",
    "## Remove Krystal Remy\n",
    "key = DF_2019.loc[DF_2019['Student'] == 'Remy, Krystal'].index\n",
    "DF_2019 = DF_2019.drop(key)\n",
    "\n",
    "## Remove Alu-Kyree Howard\n",
    "key = DF_2019.loc[DF_2019['Student'] == 'Howard, Ali-Kyree'].index\n",
    "DF_2019 = DF_2019.drop(key)\n",
    "\n",
    "## Remove James Rea\n",
    "key = DF_2019.loc[DF_2019['Student'] == 'Rea, James'].index\n",
    "DF_2019 = DF_2019.drop(key)\n",
    "\n",
    "## Remove Wade Smith\n",
    "key = DF_2019.loc[DF_2019['Student'] == 'Smith, Wade K'].index\n",
    "DF_2019 = DF_2019.drop(key)\n",
    "\n",
    "## Remove Arjun Dave\n",
    "key = DF_2019.loc[DF_2019['Student'] == 'Dave, Arjun R'].index\n",
    "DF_2019 = DF_2019.drop(key)\n",
    "\n",
    "DF_2019 = DF_2019.sort_values(by=['Student'])\n",
    "DF_2019 = DF_2019.reset_index(drop = True)\n",
    "DF_2019.head()"
   ]
  },
  {
   "cell_type": "code",
   "execution_count": null,
   "metadata": {},
   "outputs": [],
   "source": [
    "## Convert Below 70 to Number of Classes\n",
    "\n",
    "for key in DF_2019.index:\n",
    "    if (type((DF_2019.loc[key,'Courses <70'])) == int or type((DF_2019.loc[key,'Courses <70'])) == float):\n",
    "        if (math.isnan(DF_2019.loc[key,'Courses <70'])):\n",
    "            DF_2019.loc[key,'Courses <70'] = 0\n",
    "    else:\n",
    "        NumGradesBelow = DF_2019.loc[key,'Courses <70'].count('%')\n",
    "        DF_2019.loc[key,'Courses <70'] = NumGradesBelow\n",
    "    if (type((DF_2019.loc[key,'HW Avg'])) == str):\n",
    "        DF_2019.loc[key,'HW Avg'] = int(DF_2019.loc[key,'HW Avg'].strip('%'))\n",
    "             \n",
    "DF_2019.head()"
   ]
  },
  {
   "cell_type": "code",
   "execution_count": null,
   "metadata": {},
   "outputs": [],
   "source": [
    "## Calculate additional columns data\n",
    "\n",
    "DF_2019['Senior Events'] = 'TBD' \n",
    "\n",
    "for key in DF_2019.index:\n",
    "    if ((DF_2019.loc[key,'Courses <70'] == 0) and (DF_2019.loc[key,'HW Avg'] >= 70)):\n",
    "        DF_2019.loc[key,'Senior Events'] = 'Yes'\n",
    "    else:\n",
    "        DF_2019.loc[key,'Senior Events'] = 'No'\n",
    "                \n",
    "DF_2019.head()"
   ]
  },
  {
   "cell_type": "code",
   "execution_count": null,
   "metadata": {},
   "outputs": [],
   "source": [
    "## Export Initial Matrix to Excel\n",
    "\n",
    "DF_2019.to_excel('export2019_processed.xlsx')\n",
    "\n"
   ]
  },
  {
   "cell_type": "code",
   "execution_count": null,
   "metadata": {},
   "outputs": [],
   "source": []
  },
  {
   "cell_type": "code",
   "execution_count": null,
   "metadata": {},
   "outputs": [],
   "source": []
  }
 ],
 "metadata": {
  "kernelspec": {
   "display_name": "Python 3",
   "language": "python",
   "name": "python3"
  },
  "language_info": {
   "codemirror_mode": {
    "name": "ipython",
    "version": 3
   },
   "file_extension": ".py",
   "mimetype": "text/x-python",
   "name": "python",
   "nbconvert_exporter": "python",
   "pygments_lexer": "ipython3",
   "version": "3.7.1"
  }
 },
 "nbformat": 4,
 "nbformat_minor": 2
}
